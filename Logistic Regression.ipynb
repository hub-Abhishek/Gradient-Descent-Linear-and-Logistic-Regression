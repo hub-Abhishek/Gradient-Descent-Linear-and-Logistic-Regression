{
 "cells": [
  {
   "cell_type": "code",
   "execution_count": 1,
   "metadata": {},
   "outputs": [],
   "source": [
    "import pandas as pd\n",
    "import numpy as np\n",
    "import seaborn as sns\n",
    "import matplotlib.pyplot as plt\n",
    "import math\n",
    "from scipy.stats import ttest_1samp"
   ]
  },
  {
   "cell_type": "code",
   "execution_count": 2,
   "metadata": {},
   "outputs": [],
   "source": [
    "from sklearn import preprocessing\n",
    "from sklearn.model_selection import train_test_split\n",
    "from sklearn import metrics\n",
    "import statsmodels.api as sm\n",
    "import statsmodels.formula.api as smf\n",
    "import statsmodels.api as sm"
   ]
  },
  {
   "cell_type": "code",
   "execution_count": 3,
   "metadata": {},
   "outputs": [
    {
     "name": "stdout",
     "output_type": "stream",
     "text": [
      "3000\n",
      "Number of processors:  12\n"
     ]
    }
   ],
   "source": [
    "import sys\n",
    "import multiprocessing as mp\n",
    "import pprint\n",
    "\n",
    "print(sys.getrecursionlimit())\n",
    "sys.setrecursionlimit(10001)\n",
    "\n",
    "print(\"Number of processors: \", mp.cpu_count())"
   ]
  },
  {
   "cell_type": "code",
   "execution_count": 4,
   "metadata": {},
   "outputs": [
    {
     "name": "stdout",
     "output_type": "stream",
     "text": [
      "C:\\Users\\abhis\\Downloads\\New folder\\College\\Course Materials\\Sem 2\\Applied Machine Learning\\Assignments\\Assignment 1\\sgemm_product_dataset\n"
     ]
    }
   ],
   "source": [
    "cd sgemm_product_dataset"
   ]
  },
  {
   "cell_type": "code",
   "execution_count": 5,
   "metadata": {},
   "outputs": [
    {
     "name": "stdout",
     "output_type": "stream",
     "text": [
      "(241600, 18)\n"
     ]
    },
    {
     "data": {
      "text/html": [
       "<div>\n",
       "<style scoped>\n",
       "    .dataframe tbody tr th:only-of-type {\n",
       "        vertical-align: middle;\n",
       "    }\n",
       "\n",
       "    .dataframe tbody tr th {\n",
       "        vertical-align: top;\n",
       "    }\n",
       "\n",
       "    .dataframe thead th {\n",
       "        text-align: right;\n",
       "    }\n",
       "</style>\n",
       "<table border=\"1\" class=\"dataframe\">\n",
       "  <thead>\n",
       "    <tr style=\"text-align: right;\">\n",
       "      <th></th>\n",
       "      <th>MWG</th>\n",
       "      <th>NWG</th>\n",
       "      <th>KWG</th>\n",
       "      <th>MDIMC</th>\n",
       "      <th>NDIMC</th>\n",
       "      <th>MDIMA</th>\n",
       "      <th>NDIMB</th>\n",
       "      <th>KWI</th>\n",
       "      <th>VWM</th>\n",
       "      <th>VWN</th>\n",
       "      <th>STRM</th>\n",
       "      <th>STRN</th>\n",
       "      <th>SA</th>\n",
       "      <th>SB</th>\n",
       "      <th>Run1 (ms)</th>\n",
       "      <th>Run2 (ms)</th>\n",
       "      <th>Run3 (ms)</th>\n",
       "      <th>Run4 (ms)</th>\n",
       "    </tr>\n",
       "  </thead>\n",
       "  <tbody>\n",
       "    <tr>\n",
       "      <th>0</th>\n",
       "      <td>16</td>\n",
       "      <td>16</td>\n",
       "      <td>16</td>\n",
       "      <td>8</td>\n",
       "      <td>8</td>\n",
       "      <td>8</td>\n",
       "      <td>8</td>\n",
       "      <td>2</td>\n",
       "      <td>1</td>\n",
       "      <td>1</td>\n",
       "      <td>0</td>\n",
       "      <td>0</td>\n",
       "      <td>0</td>\n",
       "      <td>0</td>\n",
       "      <td>115.26</td>\n",
       "      <td>115.87</td>\n",
       "      <td>118.55</td>\n",
       "      <td>115.80</td>\n",
       "    </tr>\n",
       "    <tr>\n",
       "      <th>1</th>\n",
       "      <td>16</td>\n",
       "      <td>16</td>\n",
       "      <td>16</td>\n",
       "      <td>8</td>\n",
       "      <td>8</td>\n",
       "      <td>8</td>\n",
       "      <td>8</td>\n",
       "      <td>2</td>\n",
       "      <td>1</td>\n",
       "      <td>1</td>\n",
       "      <td>0</td>\n",
       "      <td>0</td>\n",
       "      <td>0</td>\n",
       "      <td>1</td>\n",
       "      <td>78.13</td>\n",
       "      <td>78.25</td>\n",
       "      <td>79.25</td>\n",
       "      <td>79.19</td>\n",
       "    </tr>\n",
       "    <tr>\n",
       "      <th>2</th>\n",
       "      <td>16</td>\n",
       "      <td>16</td>\n",
       "      <td>16</td>\n",
       "      <td>8</td>\n",
       "      <td>8</td>\n",
       "      <td>8</td>\n",
       "      <td>8</td>\n",
       "      <td>2</td>\n",
       "      <td>1</td>\n",
       "      <td>1</td>\n",
       "      <td>0</td>\n",
       "      <td>0</td>\n",
       "      <td>1</td>\n",
       "      <td>0</td>\n",
       "      <td>79.84</td>\n",
       "      <td>80.69</td>\n",
       "      <td>80.76</td>\n",
       "      <td>80.97</td>\n",
       "    </tr>\n",
       "    <tr>\n",
       "      <th>3</th>\n",
       "      <td>16</td>\n",
       "      <td>16</td>\n",
       "      <td>16</td>\n",
       "      <td>8</td>\n",
       "      <td>8</td>\n",
       "      <td>8</td>\n",
       "      <td>8</td>\n",
       "      <td>2</td>\n",
       "      <td>1</td>\n",
       "      <td>1</td>\n",
       "      <td>0</td>\n",
       "      <td>0</td>\n",
       "      <td>1</td>\n",
       "      <td>1</td>\n",
       "      <td>84.32</td>\n",
       "      <td>89.90</td>\n",
       "      <td>86.75</td>\n",
       "      <td>85.58</td>\n",
       "    </tr>\n",
       "    <tr>\n",
       "      <th>4</th>\n",
       "      <td>16</td>\n",
       "      <td>16</td>\n",
       "      <td>16</td>\n",
       "      <td>8</td>\n",
       "      <td>8</td>\n",
       "      <td>8</td>\n",
       "      <td>8</td>\n",
       "      <td>2</td>\n",
       "      <td>1</td>\n",
       "      <td>1</td>\n",
       "      <td>0</td>\n",
       "      <td>1</td>\n",
       "      <td>0</td>\n",
       "      <td>0</td>\n",
       "      <td>115.13</td>\n",
       "      <td>121.98</td>\n",
       "      <td>122.73</td>\n",
       "      <td>114.81</td>\n",
       "    </tr>\n",
       "  </tbody>\n",
       "</table>\n",
       "</div>"
      ],
      "text/plain": [
       "   MWG  NWG  KWG  MDIMC  NDIMC  MDIMA  NDIMB  KWI  VWM  VWN  STRM  STRN  SA  \\\n",
       "0   16   16   16      8      8      8      8    2    1    1     0     0   0   \n",
       "1   16   16   16      8      8      8      8    2    1    1     0     0   0   \n",
       "2   16   16   16      8      8      8      8    2    1    1     0     0   1   \n",
       "3   16   16   16      8      8      8      8    2    1    1     0     0   1   \n",
       "4   16   16   16      8      8      8      8    2    1    1     0     1   0   \n",
       "\n",
       "   SB  Run1 (ms)  Run2 (ms)  Run3 (ms)  Run4 (ms)  \n",
       "0   0     115.26     115.87     118.55     115.80  \n",
       "1   1      78.13      78.25      79.25      79.19  \n",
       "2   0      79.84      80.69      80.76      80.97  \n",
       "3   1      84.32      89.90      86.75      85.58  \n",
       "4   0     115.13     121.98     122.73     114.81  "
      ]
     },
     "execution_count": 5,
     "metadata": {},
     "output_type": "execute_result"
    }
   ],
   "source": [
    "data = pd.read_csv(\"sgemm_product.csv\")\n",
    "print(data.shape)\n",
    "data.head()"
   ]
  },
  {
   "cell_type": "code",
   "execution_count": 6,
   "metadata": {},
   "outputs": [],
   "source": [
    "data['Runtime'] = data[['Run1 (ms)','Run2 (ms)','Run3 (ms)','Run4 (ms)']].sum(axis = 1)/4"
   ]
  },
  {
   "cell_type": "code",
   "execution_count": 9,
   "metadata": {},
   "outputs": [],
   "source": [
    "def normalizing(x):\n",
    "    normalizer = preprocessing.Normalizer()\n",
    "    x_normalized =pd.DataFrame(scaler.fit_transform(x))\n",
    "    x_normalized.columns = x.columns\n",
    "    return x_normalized"
   ]
  },
  {
   "cell_type": "code",
   "execution_count": 8,
   "metadata": {},
   "outputs": [
    {
     "data": {
      "text/html": [
       "<div>\n",
       "<style scoped>\n",
       "    .dataframe tbody tr th:only-of-type {\n",
       "        vertical-align: middle;\n",
       "    }\n",
       "\n",
       "    .dataframe tbody tr th {\n",
       "        vertical-align: top;\n",
       "    }\n",
       "\n",
       "    .dataframe thead th {\n",
       "        text-align: right;\n",
       "    }\n",
       "</style>\n",
       "<table border=\"1\" class=\"dataframe\">\n",
       "  <thead>\n",
       "    <tr style=\"text-align: right;\">\n",
       "      <th></th>\n",
       "      <th>MWG</th>\n",
       "      <th>NWG</th>\n",
       "      <th>KWG</th>\n",
       "      <th>MDIMC</th>\n",
       "      <th>NDIMC</th>\n",
       "      <th>MDIMA</th>\n",
       "      <th>NDIMB</th>\n",
       "      <th>KWI</th>\n",
       "      <th>VWM</th>\n",
       "      <th>VWN</th>\n",
       "      <th>STRM</th>\n",
       "      <th>STRN</th>\n",
       "      <th>SA</th>\n",
       "      <th>SB</th>\n",
       "      <th>Run1 (ms)</th>\n",
       "      <th>Run2 (ms)</th>\n",
       "      <th>Run3 (ms)</th>\n",
       "      <th>Run4 (ms)</th>\n",
       "      <th>Runtime</th>\n",
       "    </tr>\n",
       "  </thead>\n",
       "  <tbody>\n",
       "    <tr>\n",
       "      <th>0</th>\n",
       "      <td>-1.516757</td>\n",
       "      <td>-1.516757</td>\n",
       "      <td>-1.210997</td>\n",
       "      <td>-0.753894</td>\n",
       "      <td>-0.753894</td>\n",
       "      <td>-0.998054</td>\n",
       "      <td>-0.998054</td>\n",
       "      <td>-1.0</td>\n",
       "      <td>-0.741449</td>\n",
       "      <td>-0.741449</td>\n",
       "      <td>-1.0</td>\n",
       "      <td>-1.0</td>\n",
       "      <td>-1.0</td>\n",
       "      <td>-1.0</td>\n",
       "      <td>-0.277465</td>\n",
       "      <td>-0.275877</td>\n",
       "      <td>-0.268497</td>\n",
       "      <td>-0.275927</td>\n",
       "      <td>-0.274446</td>\n",
       "    </tr>\n",
       "    <tr>\n",
       "      <th>1</th>\n",
       "      <td>-1.516757</td>\n",
       "      <td>-1.516757</td>\n",
       "      <td>-1.210997</td>\n",
       "      <td>-0.753894</td>\n",
       "      <td>-0.753894</td>\n",
       "      <td>-0.998054</td>\n",
       "      <td>-0.998054</td>\n",
       "      <td>-1.0</td>\n",
       "      <td>-0.741449</td>\n",
       "      <td>-0.741449</td>\n",
       "      <td>-1.0</td>\n",
       "      <td>-1.0</td>\n",
       "      <td>-1.0</td>\n",
       "      <td>1.0</td>\n",
       "      <td>-0.378085</td>\n",
       "      <td>-0.377918</td>\n",
       "      <td>-0.375101</td>\n",
       "      <td>-0.375228</td>\n",
       "      <td>-0.376589</td>\n",
       "    </tr>\n",
       "    <tr>\n",
       "      <th>2</th>\n",
       "      <td>-1.516757</td>\n",
       "      <td>-1.516757</td>\n",
       "      <td>-1.210997</td>\n",
       "      <td>-0.753894</td>\n",
       "      <td>-0.753894</td>\n",
       "      <td>-0.998054</td>\n",
       "      <td>-0.998054</td>\n",
       "      <td>-1.0</td>\n",
       "      <td>-0.741449</td>\n",
       "      <td>-0.741449</td>\n",
       "      <td>-1.0</td>\n",
       "      <td>-1.0</td>\n",
       "      <td>1.0</td>\n",
       "      <td>-1.0</td>\n",
       "      <td>-0.373451</td>\n",
       "      <td>-0.371300</td>\n",
       "      <td>-0.371005</td>\n",
       "      <td>-0.370400</td>\n",
       "      <td>-0.371545</td>\n",
       "    </tr>\n",
       "    <tr>\n",
       "      <th>3</th>\n",
       "      <td>-1.516757</td>\n",
       "      <td>-1.516757</td>\n",
       "      <td>-1.210997</td>\n",
       "      <td>-0.753894</td>\n",
       "      <td>-0.753894</td>\n",
       "      <td>-0.998054</td>\n",
       "      <td>-0.998054</td>\n",
       "      <td>-1.0</td>\n",
       "      <td>-0.741449</td>\n",
       "      <td>-0.741449</td>\n",
       "      <td>-1.0</td>\n",
       "      <td>-1.0</td>\n",
       "      <td>1.0</td>\n",
       "      <td>1.0</td>\n",
       "      <td>-0.361311</td>\n",
       "      <td>-0.346319</td>\n",
       "      <td>-0.354757</td>\n",
       "      <td>-0.357895</td>\n",
       "      <td>-0.355077</td>\n",
       "    </tr>\n",
       "    <tr>\n",
       "      <th>4</th>\n",
       "      <td>-1.516757</td>\n",
       "      <td>-1.516757</td>\n",
       "      <td>-1.210997</td>\n",
       "      <td>-0.753894</td>\n",
       "      <td>-0.753894</td>\n",
       "      <td>-0.998054</td>\n",
       "      <td>-0.998054</td>\n",
       "      <td>-1.0</td>\n",
       "      <td>-0.741449</td>\n",
       "      <td>-0.741449</td>\n",
       "      <td>-1.0</td>\n",
       "      <td>1.0</td>\n",
       "      <td>-1.0</td>\n",
       "      <td>-1.0</td>\n",
       "      <td>-0.277817</td>\n",
       "      <td>-0.259305</td>\n",
       "      <td>-0.257159</td>\n",
       "      <td>-0.278612</td>\n",
       "      <td>-0.268229</td>\n",
       "    </tr>\n",
       "  </tbody>\n",
       "</table>\n",
       "</div>"
      ],
      "text/plain": [
       "        MWG       NWG       KWG     MDIMC     NDIMC     MDIMA     NDIMB  KWI  \\\n",
       "0 -1.516757 -1.516757 -1.210997 -0.753894 -0.753894 -0.998054 -0.998054 -1.0   \n",
       "1 -1.516757 -1.516757 -1.210997 -0.753894 -0.753894 -0.998054 -0.998054 -1.0   \n",
       "2 -1.516757 -1.516757 -1.210997 -0.753894 -0.753894 -0.998054 -0.998054 -1.0   \n",
       "3 -1.516757 -1.516757 -1.210997 -0.753894 -0.753894 -0.998054 -0.998054 -1.0   \n",
       "4 -1.516757 -1.516757 -1.210997 -0.753894 -0.753894 -0.998054 -0.998054 -1.0   \n",
       "\n",
       "        VWM       VWN  STRM  STRN   SA   SB  Run1 (ms)  Run2 (ms)  Run3 (ms)  \\\n",
       "0 -0.741449 -0.741449  -1.0  -1.0 -1.0 -1.0  -0.277465  -0.275877  -0.268497   \n",
       "1 -0.741449 -0.741449  -1.0  -1.0 -1.0  1.0  -0.378085  -0.377918  -0.375101   \n",
       "2 -0.741449 -0.741449  -1.0  -1.0  1.0 -1.0  -0.373451  -0.371300  -0.371005   \n",
       "3 -0.741449 -0.741449  -1.0  -1.0  1.0  1.0  -0.361311  -0.346319  -0.354757   \n",
       "4 -0.741449 -0.741449  -1.0   1.0 -1.0 -1.0  -0.277817  -0.259305  -0.257159   \n",
       "\n",
       "   Run4 (ms)   Runtime  \n",
       "0  -0.275927 -0.274446  \n",
       "1  -0.375228 -0.376589  \n",
       "2  -0.370400 -0.371545  \n",
       "3  -0.357895 -0.355077  \n",
       "4  -0.278612 -0.268229  "
      ]
     },
     "execution_count": 8,
     "metadata": {},
     "output_type": "execute_result"
    }
   ],
   "source": [
    "data_normalized = normalizing(data)\n",
    "data_normalized.head()"
   ]
  },
  {
   "cell_type": "code",
   "execution_count": 10,
   "metadata": {},
   "outputs": [],
   "source": [
    "data_normalized['Runtime - logistic'] = np.where(\n",
    "    data_normalized['Runtime'].median(axis = 0) >= data_normalized['Runtime'], 0, 1)"
   ]
  },
  {
   "cell_type": "code",
   "execution_count": 11,
   "metadata": {},
   "outputs": [
    {
     "name": "stderr",
     "output_type": "stream",
     "text": [
      "c:\\users\\abhis\\appdata\\local\\programs\\python\\python37\\lib\\site-packages\\numpy\\core\\fromnumeric.py:2495: FutureWarning: Method .ptp is deprecated and will be removed in a future version. Use numpy.ptp instead.\n",
      "  return ptp(axis=axis, out=out, **kwargs)\n"
     ]
    }
   ],
   "source": [
    "x_train ,x_test ,y_train , y_test = train_test_split(\n",
    "    data_normalized.drop(columns = ['Run1 (ms)','Run2 (ms)','Run3 (ms)','Run4 (ms)','Runtime', 'Runtime - logistic']), \n",
    "    data_normalized['Runtime - logistic'], test_size=0.3,  random_state=100)\n",
    "\n",
    "x_train = sm.add_constant(x_train)\n",
    "x_test = sm.add_constant(x_test)\n",
    "y_train = pd.DataFrame(y_train)\n",
    "y_test = pd.DataFrame(y_test)"
   ]
  },
  {
   "cell_type": "markdown",
   "metadata": {},
   "source": [
    "### Logistic Regression\n",
    "\n",
    "Defining the model calculation functions"
   ]
  },
  {
   "cell_type": "code",
   "execution_count": 12,
   "metadata": {},
   "outputs": [],
   "source": [
    "def grad_desc_original(x, xt, length, y, yt, one_minus_yt, m, alpha, iters, costs):\n",
    "    \n",
    "    cost = (-1/length) * ( yt @ np.log(sigmoid(x @ m) + sys.float_info.epsilon) +\n",
    "                           one_minus_yt @ np.log(1 - sigmoid( x @ m) + sys.float_info.epsilon))[0]\n",
    "    m = m - (alpha/length) * (xt @ (sigmoid(x @ m) - y))\n",
    "        \n",
    "    print(iters, cost)\n",
    "    iters = iters - 1\n",
    "    costs.append(cost)\n",
    "    \n",
    "    if iters == 0:\n",
    "        return [m, costs]\n",
    "    else:\n",
    "        return grad_desc_original(x, xt, length, y, yt, one_minus_yt, m, alpha, iters, costs)\n",
    "    \n",
    "# np.random.seed(0)\n",
    "# x = np.array(x_train)\n",
    "# xt = x.T\n",
    "# length = len(x)\n",
    "# y = np.array(y_train)\n",
    "# yt = y.T\n",
    "# one_minus_yt = (1-y).T\n",
    "# m = np.random.rand(x.shape[1],1)\n",
    "# alpha = 0.015\n",
    "# iters = 3500\n",
    "\n",
    "# grad_desc_original(x, xt, length, y, yt, one_minus_yt, m, alpha, iters, [])"
   ]
  },
  {
   "cell_type": "code",
   "execution_count": 13,
   "metadata": {},
   "outputs": [],
   "source": [
    "def sigmoid(x):\n",
    "    return 1 / (1 + np.exp(-x))"
   ]
  },
  {
   "cell_type": "code",
   "execution_count": 14,
   "metadata": {},
   "outputs": [],
   "source": [
    "def calc_m(m, alpha, x, y, length):\n",
    "    return m - (alpha/length) * (x.T @ (sigmoid(x @ m) - y))"
   ]
  },
  {
   "cell_type": "code",
   "execution_count": 15,
   "metadata": {},
   "outputs": [],
   "source": [
    "def calc_cost(m, x, y, length):\n",
    "    return (-1/length) * ( y.T @ np.log(sigmoid(x @ m) + sys.float_info.epsilon) +\n",
    "                           ((1-y).T) @ np.log(1 - sigmoid( x @ m) + sys.float_info.epsilon))[0]"
   ]
  },
  {
   "cell_type": "code",
   "execution_count": 16,
   "metadata": {},
   "outputs": [],
   "source": [
    "def grad_desc(x, y, length, m, alpha, iters, costs):\n",
    "    costs.append(calc_cost(m, x, y, length)[0])\n",
    "    m_new = calc_m(m, alpha, x, y, length)\n",
    "    \n",
    "    if iters == 0:\n",
    "        return [m, costs]\n",
    "    else:\n",
    "        return grad_desc(x, y, length, m_new, alpha, iters - 1, costs)"
   ]
  },
  {
   "cell_type": "code",
   "execution_count": 36,
   "metadata": {},
   "outputs": [],
   "source": [
    "def grad_desc(x, y, length, m, alpha, iters, costs, threshold = 0):\n",
    "    for i in range(0, iters):\n",
    "        costs.append(calc_cost(m, x, y, length)[0])\n",
    "        m = calc_m(m, alpha, x, y, length)\n",
    "        if i > 1 and (costs[len(costs) - 2] - costs[len(costs) - 1] <= threshold):\n",
    "            print(costs[len(costs) - 2], costs[len(costs) - 1])\n",
    "            break\n",
    "    return [m, costs, i]\n",
    "    "
   ]
  },
  {
   "cell_type": "markdown",
   "metadata": {},
   "source": [
    "Fitting the model for an initial alpha of 0.015, with 3500 iterations and not checking for any thresholds in the drop of costs"
   ]
  },
  {
   "cell_type": "code",
   "execution_count": 40,
   "metadata": {},
   "outputs": [],
   "source": [
    "np.random.seed(0)\n",
    "x = np.array(x_train)\n",
    "y = np.array(y_train)\n",
    "m = np.random.rand(x.shape[1],1)\n",
    "alpha = 0.015\n",
    "iters = 3500"
   ]
  },
  {
   "cell_type": "code",
   "execution_count": 41,
   "metadata": {},
   "outputs": [],
   "source": [
    "betas = grad_desc(x, y, len(x), m, alpha, iters, [])"
   ]
  },
  {
   "cell_type": "code",
   "execution_count": 42,
   "metadata": {},
   "outputs": [
    {
     "name": "stdout",
     "output_type": "stream",
     "text": [
      "Final cost: 0.4786915679729066\n",
      "\n"
     ]
    },
    {
     "data": {
      "image/png": "[encoded data removed]",
      "text/plain": [
       "<Figure size 432x288 with 1 Axes>"
      ]
     },
     "metadata": {
      "needs_background": "light"
     },
     "output_type": "display_data"
    }
   ],
   "source": [
    "plt.plot(betas[1])\n",
    "print('Final cost: {}\\n'.format(betas[1][len(betas[1]) - 1]))"
   ]
  },
  {
   "cell_type": "code",
   "execution_count": 21,
   "metadata": {},
   "outputs": [
    {
     "name": "stdout",
     "output_type": "stream",
     "text": [
      "Model Output:\n",
      "\n"
     ]
    },
    {
     "data": {
      "text/html": [
       "<div>\n",
       "<style scoped>\n",
       "    .dataframe tbody tr th:only-of-type {\n",
       "        vertical-align: middle;\n",
       "    }\n",
       "\n",
       "    .dataframe tbody tr th {\n",
       "        vertical-align: top;\n",
       "    }\n",
       "\n",
       "    .dataframe thead th {\n",
       "        text-align: right;\n",
       "    }\n",
       "</style>\n",
       "<table border=\"1\" class=\"dataframe\">\n",
       "  <thead>\n",
       "    <tr style=\"text-align: right;\">\n",
       "      <th></th>\n",
       "      <th>Variable</th>\n",
       "      <th>Coeff</th>\n",
       "    </tr>\n",
       "  </thead>\n",
       "  <tbody>\n",
       "    <tr>\n",
       "      <th>0</th>\n",
       "      <td>const</td>\n",
       "      <td>0.004167</td>\n",
       "    </tr>\n",
       "    <tr>\n",
       "      <th>1</th>\n",
       "      <td>MWG</td>\n",
       "      <td>1.263071</td>\n",
       "    </tr>\n",
       "    <tr>\n",
       "      <th>2</th>\n",
       "      <td>NWG</td>\n",
       "      <td>0.810708</td>\n",
       "    </tr>\n",
       "    <tr>\n",
       "      <th>3</th>\n",
       "      <td>KWG</td>\n",
       "      <td>0.142091</td>\n",
       "    </tr>\n",
       "    <tr>\n",
       "      <th>4</th>\n",
       "      <td>MDIMC</td>\n",
       "      <td>-0.853786</td>\n",
       "    </tr>\n",
       "    <tr>\n",
       "      <th>5</th>\n",
       "      <td>NDIMC</td>\n",
       "      <td>-0.732831</td>\n",
       "    </tr>\n",
       "    <tr>\n",
       "      <th>6</th>\n",
       "      <td>MDIMA</td>\n",
       "      <td>-0.041744</td>\n",
       "    </tr>\n",
       "    <tr>\n",
       "      <th>7</th>\n",
       "      <td>NDIMB</td>\n",
       "      <td>-0.063933</td>\n",
       "    </tr>\n",
       "    <tr>\n",
       "      <th>8</th>\n",
       "      <td>KWI</td>\n",
       "      <td>-0.019694</td>\n",
       "    </tr>\n",
       "    <tr>\n",
       "      <th>9</th>\n",
       "      <td>VWM</td>\n",
       "      <td>-0.057794</td>\n",
       "    </tr>\n",
       "    <tr>\n",
       "      <th>10</th>\n",
       "      <td>VWN</td>\n",
       "      <td>-0.128708</td>\n",
       "    </tr>\n",
       "    <tr>\n",
       "      <th>11</th>\n",
       "      <td>STRM</td>\n",
       "      <td>-0.313243</td>\n",
       "    </tr>\n",
       "    <tr>\n",
       "      <th>12</th>\n",
       "      <td>STRN</td>\n",
       "      <td>-0.022199</td>\n",
       "    </tr>\n",
       "    <tr>\n",
       "      <th>13</th>\n",
       "      <td>SA</td>\n",
       "      <td>-0.393644</td>\n",
       "    </tr>\n",
       "    <tr>\n",
       "      <th>14</th>\n",
       "      <td>SB</td>\n",
       "      <td>-0.078589</td>\n",
       "    </tr>\n",
       "  </tbody>\n",
       "</table>\n",
       "</div>"
      ],
      "text/plain": [
       "   Variable     Coeff\n",
       "0     const  0.004167\n",
       "1       MWG  1.263071\n",
       "2       NWG  0.810708\n",
       "3       KWG  0.142091\n",
       "4     MDIMC -0.853786\n",
       "5     NDIMC -0.732831\n",
       "6     MDIMA -0.041744\n",
       "7     NDIMB -0.063933\n",
       "8       KWI -0.019694\n",
       "9       VWM -0.057794\n",
       "10      VWN -0.128708\n",
       "11     STRM -0.313243\n",
       "12     STRN -0.022199\n",
       "13       SA -0.393644\n",
       "14       SB -0.078589"
      ]
     },
     "execution_count": 21,
     "metadata": {},
     "output_type": "execute_result"
    }
   ],
   "source": [
    "model_output = pd.DataFrame(columns = ['Variable', 'Coeff'])\n",
    "for i in range(0, len(betas[0])):\n",
    "    model_output.loc[i] = [x_train.columns[i], betas[0][i][0]]\n",
    "print('Model Output:\\n')\n",
    "model_output\n",
    "\n",
    "# const\t0.004167\n",
    "# MWG\t1.263071"
   ]
  },
  {
   "cell_type": "code",
   "execution_count": 22,
   "metadata": {},
   "outputs": [
    {
     "name": "stdout",
     "output_type": "stream",
     "text": [
      "Optimization terminated successfully.\n",
      "         Current function value: 0.478500\n",
      "         Iterations 6\n"
     ]
    },
    {
     "data": {
      "text/html": [
       "<table class=\"simpletable\">\n",
       "<tr>\n",
       "        <td>Model:</td>               <td>Logit</td>       <td>Pseudo R-squared:</td>    <td>0.310</td>   \n",
       "</tr>\n",
       "<tr>\n",
       "  <td>Dependent Variable:</td> <td>Runtime - logistic</td>       <td>AIC:</td>        <td>161877.9255</td>\n",
       "</tr>\n",
       "<tr>\n",
       "         <td>Date:</td>         <td>2020-02-11 18:39</td>        <td>BIC:</td>        <td>162028.5010</td>\n",
       "</tr>\n",
       "<tr>\n",
       "   <td>No. Observations:</td>        <td>169120</td>        <td>Log-Likelihood:</td>    <td>-80924.</td>  \n",
       "</tr>\n",
       "<tr>\n",
       "       <td>Df Model:</td>              <td>14</td>             <td>LL-Null:</td>      <td>-1.1723e+05</td>\n",
       "</tr>\n",
       "<tr>\n",
       "     <td>Df Residuals:</td>          <td>169105</td>         <td>LLR p-value:</td>      <td>0.0000</td>   \n",
       "</tr>\n",
       "<tr>\n",
       "      <td>Converged:</td>            <td>1.0000</td>            <td>Scale:</td>         <td>1.0000</td>   \n",
       "</tr>\n",
       "<tr>\n",
       "    <td>No. Iterations:</td>         <td>6.0000</td>               <td></td>               <td></td>      \n",
       "</tr>\n",
       "</table>\n",
       "<table class=\"simpletable\">\n",
       "<tr>\n",
       "    <td></td>     <th>Coef.</th>  <th>Std.Err.</th>     <th>z</th>      <th>P>|z|</th> <th>[0.025</th>  <th>0.975]</th> \n",
       "</tr>\n",
       "<tr>\n",
       "  <th>const</th> <td>0.0050</td>   <td>0.0061</td>   <td>0.8125</td>   <td>0.4165</td> <td>-0.0070</td> <td>0.0170</td> \n",
       "</tr>\n",
       "<tr>\n",
       "  <th>MWG</th>   <td>1.3095</td>   <td>0.0079</td>  <td>166.0315</td>  <td>0.0000</td> <td>1.2940</td>  <td>1.3249</td> \n",
       "</tr>\n",
       "<tr>\n",
       "  <th>NWG</th>   <td>0.8478</td>   <td>0.0073</td>  <td>115.3554</td>  <td>0.0000</td> <td>0.8334</td>  <td>0.8622</td> \n",
       "</tr>\n",
       "<tr>\n",
       "  <th>KWG</th>   <td>0.1534</td>   <td>0.0064</td>   <td>24.0918</td>  <td>0.0000</td> <td>0.1409</td>  <td>0.1659</td> \n",
       "</tr>\n",
       "<tr>\n",
       "  <th>MDIMC</th> <td>-0.8926</td>  <td>0.0075</td>  <td>-119.5945</td> <td>0.0000</td> <td>-0.9072</td> <td>-0.8780</td>\n",
       "</tr>\n",
       "<tr>\n",
       "  <th>NDIMC</th> <td>-0.7681</td>  <td>0.0073</td>  <td>-105.6625</td> <td>0.0000</td> <td>-0.7824</td> <td>-0.7539</td>\n",
       "</tr>\n",
       "<tr>\n",
       "  <th>MDIMA</th> <td>-0.0463</td>  <td>0.0067</td>   <td>-6.9620</td>  <td>0.0000</td> <td>-0.0593</td> <td>-0.0333</td>\n",
       "</tr>\n",
       "<tr>\n",
       "  <th>NDIMB</th> <td>-0.0693</td>  <td>0.0066</td>  <td>-10.4263</td>  <td>0.0000</td> <td>-0.0823</td> <td>-0.0563</td>\n",
       "</tr>\n",
       "<tr>\n",
       "  <th>KWI</th>   <td>-0.0203</td>  <td>0.0061</td>   <td>-3.3157</td>  <td>0.0009</td> <td>-0.0324</td> <td>-0.0083</td>\n",
       "</tr>\n",
       "<tr>\n",
       "  <th>VWM</th>   <td>-0.0778</td>  <td>0.0069</td>  <td>-11.2038</td>  <td>0.0000</td> <td>-0.0914</td> <td>-0.0642</td>\n",
       "</tr>\n",
       "<tr>\n",
       "  <th>VWN</th>   <td>-0.1495</td>  <td>0.0069</td>  <td>-21.7170</td>  <td>0.0000</td> <td>-0.1630</td> <td>-0.1360</td>\n",
       "</tr>\n",
       "<tr>\n",
       "  <th>STRM</th>  <td>-0.3226</td>  <td>0.0062</td>  <td>-51.9886</td>  <td>0.0000</td> <td>-0.3347</td> <td>-0.3104</td>\n",
       "</tr>\n",
       "<tr>\n",
       "  <th>STRN</th>  <td>-0.0231</td>  <td>0.0061</td>   <td>-3.7583</td>  <td>0.0002</td> <td>-0.0351</td> <td>-0.0110</td>\n",
       "</tr>\n",
       "<tr>\n",
       "  <th>SA</th>    <td>-0.4054</td>  <td>0.0062</td>  <td>-64.8980</td>  <td>0.0000</td> <td>-0.4176</td> <td>-0.3932</td>\n",
       "</tr>\n",
       "<tr>\n",
       "  <th>SB</th>    <td>-0.0810</td>  <td>0.0061</td>  <td>-13.1984</td>  <td>0.0000</td> <td>-0.0931</td> <td>-0.0690</td>\n",
       "</tr>\n",
       "</table>"
      ],
      "text/plain": [
       "<class 'statsmodels.iolib.summary2.Summary'>\n",
       "\"\"\"\n",
       "                           Results: Logit\n",
       "====================================================================\n",
       "Model:              Logit              Pseudo R-squared: 0.310      \n",
       "Dependent Variable: Runtime - logistic AIC:              161877.9255\n",
       "Date:               2020-02-11 18:39   BIC:              162028.5010\n",
       "No. Observations:   169120             Log-Likelihood:   -80924.    \n",
       "Df Model:           14                 LL-Null:          -1.1723e+05\n",
       "Df Residuals:       169105             LLR p-value:      0.0000     \n",
       "Converged:          1.0000             Scale:            1.0000     \n",
       "No. Iterations:     6.0000                                          \n",
       "----------------------------------------------------------------------\n",
       "            Coef.    Std.Err.       z       P>|z|     [0.025    0.975]\n",
       "----------------------------------------------------------------------\n",
       "const       0.0050     0.0061      0.8125   0.4165   -0.0070    0.0170\n",
       "MWG         1.3095     0.0079    166.0315   0.0000    1.2940    1.3249\n",
       "NWG         0.8478     0.0073    115.3554   0.0000    0.8334    0.8622\n",
       "KWG         0.1534     0.0064     24.0918   0.0000    0.1409    0.1659\n",
       "MDIMC      -0.8926     0.0075   -119.5945   0.0000   -0.9072   -0.8780\n",
       "NDIMC      -0.7681     0.0073   -105.6625   0.0000   -0.7824   -0.7539\n",
       "MDIMA      -0.0463     0.0067     -6.9620   0.0000   -0.0593   -0.0333\n",
       "NDIMB      -0.0693     0.0066    -10.4263   0.0000   -0.0823   -0.0563\n",
       "KWI        -0.0203     0.0061     -3.3157   0.0009   -0.0324   -0.0083\n",
       "VWM        -0.0778     0.0069    -11.2038   0.0000   -0.0914   -0.0642\n",
       "VWN        -0.1495     0.0069    -21.7170   0.0000   -0.1630   -0.1360\n",
       "STRM       -0.3226     0.0062    -51.9886   0.0000   -0.3347   -0.3104\n",
       "STRN       -0.0231     0.0061     -3.7583   0.0002   -0.0351   -0.0110\n",
       "SA         -0.4054     0.0062    -64.8980   0.0000   -0.4176   -0.3932\n",
       "SB         -0.0810     0.0061    -13.1984   0.0000   -0.0931   -0.0690\n",
       "====================================================================\n",
       "\n",
       "\"\"\""
      ]
     },
     "execution_count": 22,
     "metadata": {},
     "output_type": "execute_result"
    }
   ],
   "source": [
    "logit_model=sm.Logit(y_train,x_train).fit()\n",
    "logit_model.summary2()"
   ]
  },
  {
   "cell_type": "markdown",
   "metadata": {},
   "source": [
    "### Predicting Y values for test data"
   ]
  },
  {
   "cell_type": "code",
   "execution_count": 48,
   "metadata": {},
   "outputs": [
    {
     "name": "stdout",
     "output_type": "stream",
     "text": [
      "       Pred True  Pred False\n",
      "True       29482        6724\n",
      "False       7000       29274\n"
     ]
    },
    {
     "data": {
      "text/plain": [
       "29482"
      ]
     },
     "execution_count": 48,
     "metadata": {},
     "output_type": "execute_result"
    }
   ],
   "source": [
    "y_hat = np.round(sigmoid(x_test @ betas[0]))\n",
    "confusion_matrix = pd.DataFrame(metrics.confusion_matrix(y_test, y_hat), columns = ['Pred True', 'Pred False'], index = ['True', 'False'])\n",
    "print(confusion_matrix.head())\n",
    "confusion_matrix.iloc[0,0]"
   ]
  },
  {
   "cell_type": "markdown",
   "metadata": {},
   "source": [
    "## Experiments with truth"
   ]
  },
  {
   "cell_type": "markdown",
   "metadata": {},
   "source": [
    "### Experiment 1: Experiment with various parameters for linear and logistic regression (e.g. learning rate ∝) and report on your findings as how the error/accuracy varies for train and test sets with varying these parameters. Plot the results. Report the best values of the parameters."
   ]
  },
  {
   "cell_type": "code",
   "execution_count": null,
   "metadata": {},
   "outputs": [],
   "source": []
  },
  {
   "cell_type": "markdown",
   "metadata": {},
   "source": [
    "### Experiment 2: Experiment with various thresholds for convergence for linear and logistic regression. Plot error results for train and test sets as a function of threshold and describe how varying the threshold affects error. Pick your best threshold and plot train and test error (in one figure) as a function of number of gradient descent iterations."
   ]
  },
  {
   "cell_type": "code",
   "execution_count": 75,
   "metadata": {},
   "outputs": [],
   "source": [
    "def thresholding(x, decimal):\n",
    "    results = np.where(x[0]%1 > decimal, 1, 0)\n",
    "    return results"
   ]
  },
  {
   "cell_type": "code",
   "execution_count": 82,
   "metadata": {},
   "outputs": [
    {
     "data": {
      "text/html": [
       "<div>\n",
       "<style scoped>\n",
       "    .dataframe tbody tr th:only-of-type {\n",
       "        vertical-align: middle;\n",
       "    }\n",
       "\n",
       "    .dataframe tbody tr th {\n",
       "        vertical-align: top;\n",
       "    }\n",
       "\n",
       "    .dataframe thead th {\n",
       "        text-align: right;\n",
       "    }\n",
       "</style>\n",
       "<table border=\"1\" class=\"dataframe\">\n",
       "  <thead>\n",
       "    <tr style=\"text-align: right;\">\n",
       "      <th></th>\n",
       "      <th>TP</th>\n",
       "      <th>TN</th>\n",
       "      <th>FP</th>\n",
       "      <th>FN</th>\n",
       "    </tr>\n",
       "  </thead>\n",
       "  <tbody>\n",
       "    <tr>\n",
       "      <th>0</th>\n",
       "      <td>0.000000</td>\n",
       "      <td>0.499793</td>\n",
       "      <td>0.000000</td>\n",
       "      <td>0.500207</td>\n",
       "    </tr>\n",
       "    <tr>\n",
       "      <th>1</th>\n",
       "      <td>0.000982</td>\n",
       "      <td>0.498628</td>\n",
       "      <td>0.001165</td>\n",
       "      <td>0.499225</td>\n",
       "    </tr>\n",
       "    <tr>\n",
       "      <th>2</th>\n",
       "      <td>0.005328</td>\n",
       "      <td>0.495684</td>\n",
       "      <td>0.004110</td>\n",
       "      <td>0.494879</td>\n",
       "    </tr>\n",
       "    <tr>\n",
       "      <th>3</th>\n",
       "      <td>0.012535</td>\n",
       "      <td>0.492088</td>\n",
       "      <td>0.007705</td>\n",
       "      <td>0.487671</td>\n",
       "    </tr>\n",
       "    <tr>\n",
       "      <th>4</th>\n",
       "      <td>0.020796</td>\n",
       "      <td>0.488724</td>\n",
       "      <td>0.011069</td>\n",
       "      <td>0.479411</td>\n",
       "    </tr>\n",
       "    <tr>\n",
       "      <th>...</th>\n",
       "      <td>...</td>\n",
       "      <td>...</td>\n",
       "      <td>...</td>\n",
       "      <td>...</td>\n",
       "    </tr>\n",
       "    <tr>\n",
       "      <th>95</th>\n",
       "      <td>0.500207</td>\n",
       "      <td>0.034165</td>\n",
       "      <td>0.465628</td>\n",
       "      <td>0.000000</td>\n",
       "    </tr>\n",
       "    <tr>\n",
       "      <th>96</th>\n",
       "      <td>0.500207</td>\n",
       "      <td>0.019247</td>\n",
       "      <td>0.480546</td>\n",
       "      <td>0.000000</td>\n",
       "    </tr>\n",
       "    <tr>\n",
       "      <th>97</th>\n",
       "      <td>0.500207</td>\n",
       "      <td>0.007084</td>\n",
       "      <td>0.492709</td>\n",
       "      <td>0.000000</td>\n",
       "    </tr>\n",
       "    <tr>\n",
       "      <th>98</th>\n",
       "      <td>0.500207</td>\n",
       "      <td>0.000118</td>\n",
       "      <td>0.499675</td>\n",
       "      <td>0.000000</td>\n",
       "    </tr>\n",
       "    <tr>\n",
       "      <th>99</th>\n",
       "      <td>0.500207</td>\n",
       "      <td>0.000000</td>\n",
       "      <td>0.499793</td>\n",
       "      <td>0.000000</td>\n",
       "    </tr>\n",
       "  </tbody>\n",
       "</table>\n",
       "<p>100 rows × 4 columns</p>\n",
       "</div>"
      ],
      "text/plain": [
       "          TP        TN        FP        FN\n",
       "0   0.000000  0.499793  0.000000  0.500207\n",
       "1   0.000982  0.498628  0.001165  0.499225\n",
       "2   0.005328  0.495684  0.004110  0.494879\n",
       "3   0.012535  0.492088  0.007705  0.487671\n",
       "4   0.020796  0.488724  0.011069  0.479411\n",
       "..       ...       ...       ...       ...\n",
       "95  0.500207  0.034165  0.465628  0.000000\n",
       "96  0.500207  0.019247  0.480546  0.000000\n",
       "97  0.500207  0.007084  0.492709  0.000000\n",
       "98  0.500207  0.000118  0.499675  0.000000\n",
       "99  0.500207  0.000000  0.499793  0.000000\n",
       "\n",
       "[100 rows x 4 columns]"
      ]
     },
     "execution_count": 82,
     "metadata": {},
     "output_type": "execute_result"
    }
   ],
   "source": [
    "thresholds = np.linspace(0.0, 1.0, num = 100)\n",
    "conf = pd.DataFrame(columns = ['TP', 'TN', 'FP', 'FN'])\n",
    "y_train_pred = sigmoid(x_train @ betas[0])\n",
    "\n",
    "for i in thresholds:\n",
    "    y_hat_rounded = thresholding(y_train_pred, i)\n",
    "    confusion_matrix = metrics.confusion_matrix(y_train, y_hat_rounded)\n",
    "    confusion_matrix = pd.DataFrame(confusion_matrix/ sum(confusion_matrix.ravel()), \n",
    "                                    columns = ['Pred True', 'Pred False'], index = ['True', 'False'])\n",
    "    conf.loc[len(conf)] = [confusion_matrix.iloc[0,0], confusion_matrix.iloc[1,1], confusion_matrix.iloc[1,0], confusion_matrix.iloc[0,1]]"
   ]
  },
  {
   "cell_type": "code",
   "execution_count": 105,
   "metadata": {},
   "outputs": [
    {
     "data": {
      "image/png": "[encoded data removed]",
      "text/plain": [
       "<Figure size 504x360 with 2 Axes>"
      ]
     },
     "metadata": {
      "needs_background": "light"
     },
     "output_type": "display_data"
    }
   ],
   "source": [
    "# plt.plot(conf['FP']/(conf['TN'] + conf['FP']), conf['TP']/(conf['TP'] + conf['FN']))\n",
    "\n",
    "fig, ax1 = plt.subplots(figsize = (7,5))\n",
    "\n",
    "color = 'tab:blue'\n",
    "ax1.set_title('Reciever Operator Characteristic Curve')\n",
    "ax1.set_xlabel('False Positive Rate')\n",
    "ax1.set_ylabel('True Positive Rate', color=color)\n",
    "ax1.plot(conf['FP']/(conf['TN'] + conf['FP']), conf['TP']/(conf['TP'] + conf['FN']), color=color)\n",
    "ax1.tick_params(axis='y', labelcolor=color)\n",
    "\n",
    "color = 'tab:red'\n",
    "ax2 = ax1.twiny()\n",
    "ax2.set_xlabel('Threshold', color=color)\n",
    "ax2.plot(thresholds, [0]*len(thresholds), color=color, linestyle='None')\n",
    "ax2.tick_params(axis='x', labelcolor=color)\n",
    "fig.tight_layout()  # otherwise the right y-label is slightly clipped\n",
    "plt.show()"
   ]
  },
  {
   "cell_type": "markdown",
   "metadata": {},
   "source": [
    "### Experiment 3: Pick eight features randomly and retrain your models only on these ten features. Compare train and test error results for the case of using your original set of features (14) and eight random features. Report the ten randomly selected features."
   ]
  },
  {
   "cell_type": "code",
   "execution_count": null,
   "metadata": {},
   "outputs": [],
   "source": []
  },
  {
   "cell_type": "markdown",
   "metadata": {},
   "source": [
    "### Experiment 4: Now pick eight features that you think are best suited to predict the output, and retrain your models using these ten features. Compare to the case of using your original set of features and to the random features case. Did your choice of features provide better results than picking random features? Why? Did your choice of features provide better results than using all features? Why?"
   ]
  },
  {
   "cell_type": "code",
   "execution_count": null,
   "metadata": {},
   "outputs": [],
   "source": []
  }
 ],
 "metadata": {
  "kernelspec": {
   "display_name": "Python 3",
   "language": "python",
   "name": "python3"
  },
  "language_info": {
   "codemirror_mode": {
    "name": "ipython",
    "version": 3
   },
   "file_extension": ".py",
   "mimetype": "text/x-python",
   "name": "python",
   "nbconvert_exporter": "python",
   "pygments_lexer": "ipython3",
   "version": "3.7.4"
  }
 },
 "nbformat": 4,
 "nbformat_minor": 2
}
